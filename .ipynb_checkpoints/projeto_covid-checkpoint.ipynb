{
 "cells": [
  {
   "cell_type": "markdown",
   "id": "af672509",
   "metadata": {},
   "source": [
    "# Projeto COVID-19\n",
    "\n",
    "## Digital Inovation One\n",
    "\n",
    "#### Estudo da evolução da COVID-19 apresentado no *Boot Camp* da Unimed BH em parceria com a DIO\n",
    "##### Aluno: Moysés Dutra da Silva"
   ]
  },
  {
   "cell_type": "code",
   "execution_count": null,
   "id": "48a3257e",
   "metadata": {},
   "outputs": [],
   "source": [
    "#importando as bibliotecas\n",
    "import pandas as pd\n",
    "import numpy as np\n",
    "from datetime import datetime\n",
    "import plotly.express as px\n",
    "import plotly.graph_objects as go"
   ]
  },
  {
   "cell_type": "code",
   "execution_count": null,
   "id": "637e6d97",
   "metadata": {},
   "outputs": [],
   "source": [
    "#importando os dados do processo\n",
    "url = 'https://github.com/neylsoncrepalde/projeto_eda_covid/blob/master/covid_19_data.csv?raw=true'\n",
    "arquivo = './DATA/covid_19_data.csv'"
   ]
  },
  {
   "cell_type": "code",
   "execution_count": null,
   "id": "5b428458",
   "metadata": {},
   "outputs": [],
   "source": [
    "df = pd.read_csv(arquivo, parse_dates=['ObservationDate','Last Update'])\n",
    "df.head()"
   ]
  },
  {
   "cell_type": "markdown",
   "id": "627891fe",
   "metadata": {},
   "source": [
    "### Formatando as informações importadas"
   ]
  },
  {
   "cell_type": "code",
   "execution_count": null,
   "id": "b17394be",
   "metadata": {},
   "outputs": [],
   "source": [
    "#conferir os tipos de cada coluna\n",
    "df.dtypes"
   ]
  },
  {
   "cell_type": "markdown",
   "id": "f1e0e54c",
   "metadata": {},
   "source": [
    "Nomes de colunas nao devem ter letras maiusculas e nem caracteres especiais. Vamos implementar uma funçao para fazer a limpeza dos nomes dessas colunas"
   ]
  },
  {
   "cell_type": "code",
   "execution_count": null,
   "id": "fd373099",
   "metadata": {},
   "outputs": [],
   "source": [
    "import re #usando regex.   Substituindo \"/\" ou espaco \" \" por nada e retornando em minusculas\n",
    "def corrige_colunas(col_name):\n",
    "    return re.sub(r\"[/| ]\",\"\", col_name).lower()"
   ]
  },
  {
   "cell_type": "code",
   "execution_count": null,
   "id": "91cd0ab5",
   "metadata": {},
   "outputs": [],
   "source": [
    "#corrigindo o nome das colunas do df\n",
    "df.columns = [corrige_colunas(col) for col in df]\n",
    "df.head()"
   ]
  },
  {
   "cell_type": "markdown",
   "id": "b3e9b34b",
   "metadata": {},
   "source": [
    "### Criando o primeiro gráfico dos dados selecionados\n",
    "\n",
    "#### Selecionando os dados do Brasil"
   ]
  },
  {
   "cell_type": "code",
   "execution_count": null,
   "id": "77039144",
   "metadata": {},
   "outputs": [],
   "source": [
    "df.loc[df.countryregion =='Brazil']"
   ]
  },
  {
   "cell_type": "code",
   "execution_count": null,
   "id": "08bd5acc",
   "metadata": {},
   "outputs": [],
   "source": [
    "brasil = df.loc[(df.countryregion =='Brazil') & (df.confirmed > 0)]\n",
    "brasil.shape"
   ]
  },
  {
   "cell_type": "markdown",
   "id": "f1217a88",
   "metadata": {},
   "source": [
    "# Casos Confirmados\n",
    "\n",
    "\n",
    "#### Gráfico da evolução dos casos confirmados"
   ]
  },
  {
   "cell_type": "code",
   "execution_count": null,
   "id": "34607c0d",
   "metadata": {},
   "outputs": [],
   "source": [
    "px.line(brasil, 'observationdate', 'confirmed', title = 'Casos confirmados no Brasil')"
   ]
  },
  {
   "cell_type": "markdown",
   "id": "79e08880",
   "metadata": {},
   "source": [
    "## Usando lambda para identificar novos casos confirmados por dia"
   ]
  },
  {
   "cell_type": "code",
   "execution_count": null,
   "id": "f8ba792c",
   "metadata": {},
   "outputs": [],
   "source": [
    "#tecnica de programação funcional\n",
    "brasil['novoscasos'] = list(map(lambda x : 0 if (x==0) else brasil['confirmed'].iloc[x]-brasil['confirmed'].iloc[x-1] ,\n",
    "                                np.arange(brasil.shape[0])                                \n",
    "                                ))"
   ]
  },
  {
   "cell_type": "code",
   "execution_count": null,
   "id": "10078e99",
   "metadata": {},
   "outputs": [],
   "source": [
    "brasil.head()\n"
   ]
  },
  {
   "cell_type": "code",
   "execution_count": null,
   "id": "bb840c4f",
   "metadata": {},
   "outputs": [],
   "source": [
    "px.line(brasil, 'observationdate', y='novoscasos', title = 'Novos casos por dia')"
   ]
  },
  {
   "cell_type": "markdown",
   "id": "fd6aa3f3",
   "metadata": {},
   "source": [
    "### Mortes"
   ]
  },
  {
   "cell_type": "code",
   "execution_count": null,
   "id": "1d9f7730",
   "metadata": {},
   "outputs": [],
   "source": [
    "fig = go.Figure()\n",
    "\n",
    "fig.add_trace(\n",
    "    go.Scatter(x = brasil.observationdate, y=brasil.deaths, name = 'Mortes', mode='lines+markers', line={'color':'red'})\n",
    ")\n",
    "fig.update_layout(title = 'Mortes por COVID-19 no Brasil')\n",
    "fig.show()"
   ]
  },
  {
   "cell_type": "markdown",
   "id": "c7369521",
   "metadata": {},
   "source": [
    "### Taxa de crescimento\n",
    "\n",
    "#### Avaliando uma série temporal\n",
    "\n",
    "taxa = (presente / passado) ^(1/n) - 1\n"
   ]
  },
  {
   "cell_type": "code",
   "execution_count": null,
   "id": "ed8a7864",
   "metadata": {},
   "outputs": [],
   "source": [
    "def taxa_crescimento(data, variavel, dt_inicio = None, dt_fim = None):\n",
    "    #se dt_inicio for None ==> definir com a primeira data disponivel\n",
    "    if dt_inicio == None:\n",
    "        dt_inicio = data.observationdate.loc[data[variavel] >0].min()\n",
    "    else:\n",
    "        dt_inicio = pd.to_datetime(dt_inicio)\n",
    "        \n",
    "    #se dt_fim for None ==> definir com a ultima data disponivel\n",
    "    if dt_fim == None:\n",
    "        dt_fim = data.observationdate.iloc[-1]\n",
    "    else:\n",
    "        dt_fim = pd.to_datetime(dt_fim)\n",
    "    \n",
    "    #define os valores do presente e passado\n",
    "    passado = data.loc[data.observationdate == dt_inicio, variavel].values[0]\n",
    "    presente = data.loc[data.observationdate == dt_fim, variavel].values[0]\n",
    "    \n",
    "    n = (dt_fim - dt_inicio).days\n",
    "    \n",
    "#     Calculando a taxa\n",
    "    taxa = (presente / passado) **(1/n)-1\n",
    "    \n",
    "    return taxa * 100\n",
    "        "
   ]
  },
  {
   "cell_type": "code",
   "execution_count": null,
   "id": "5c5b8907",
   "metadata": {},
   "outputs": [],
   "source": [
    "#Taxa de crescimento médio do COVID no Brasil em todo o periodo\n",
    "print('O COVID-19 cresce em média diariamente: ',taxa_crescimento(brasil, 'confirmed') )"
   ]
  },
  {
   "cell_type": "code",
   "execution_count": null,
   "id": "334d48c2",
   "metadata": {},
   "outputs": [],
   "source": [
    "def taxa_crescimento_diaria(data, variavel, dt_inicio = None):\n",
    "     #se dt_inicio for None ==> definir com a primeira data disponivel\n",
    "    if dt_inicio == None:\n",
    "        dt_inicio = data.observationdate.loc[data[variavel] >0].min()\n",
    "    else:\n",
    "        dt_inicio = pd.to_datetime(dt_inicio)\n",
    "    \n",
    "    dt_fim = data.observationdate.max()\n",
    "    n = (dt_fim - dt_inicio).days\n",
    "    \n",
    "    #taxa calculada de um dia paa o outro\n",
    "    taxas = list(map(\n",
    "        lambda x: (data[variavel].iloc[x] - data[variavel].iloc[x-1])/data[variavel].iloc[x-1],\n",
    "        range(1,n+1)\n",
    "    ))\n",
    "    return np.array(taxas) * 100"
   ]
  },
  {
   "cell_type": "code",
   "execution_count": null,
   "id": "e609fc44",
   "metadata": {},
   "outputs": [],
   "source": [
    "tx_dia = taxa_crescimento_diaria(brasil, 'confirmed')\n",
    "tx_dia\n"
   ]
  },
  {
   "cell_type": "code",
   "execution_count": null,
   "id": "8681ebe1",
   "metadata": {},
   "outputs": [],
   "source": [
    "primeiro_dia = brasil.observationdate.loc[brasil.confirmed>0].min()\n",
    "px.line(x=pd.date_range(primeiro_dia, brasil.observationdate.max())[1:], \n",
    "       y=tx_dia, title='Taxa de crescimento de casos confirmados no Brasil')"
   ]
  },
  {
   "cell_type": "markdown",
   "id": "8ff5a152",
   "metadata": {},
   "source": [
    "## Predições"
   ]
  },
  {
   "cell_type": "markdown",
   "id": "354ade74",
   "metadata": {},
   "source": [
    "### Em uma série temporal podemos identificar fazenod a sua decomposição:\n",
    "- Tendência\n",
    "- Sazonalidade\n",
    "- Ruído"
   ]
  },
  {
   "cell_type": "code",
   "execution_count": null,
   "id": "eac11bc0",
   "metadata": {},
   "outputs": [],
   "source": [
    "from statsmodels.tsa.seasonal import seasonal_decompose\n",
    "import matplotlib.pyplot as plt\n"
   ]
  },
  {
   "cell_type": "code",
   "execution_count": null,
   "id": "27464582",
   "metadata": {},
   "outputs": [],
   "source": [
    "confirmados = brasil.confirmed\n",
    "confirmados.index = brasil.observationdate\n",
    "confirmados.head()"
   ]
  },
  {
   "cell_type": "code",
   "execution_count": null,
   "id": "c3fc2d13",
   "metadata": {},
   "outputs": [],
   "source": [
    "#fazendo a decomposicao da série temporal\n",
    "res = seasonal_decompose(confirmados)\n",
    "res"
   ]
  },
  {
   "cell_type": "code",
   "execution_count": null,
   "id": "33e0adbe",
   "metadata": {},
   "outputs": [],
   "source": [
    "fig, (ax1, ax2, ax3, ax4) = plt.subplots(4,1, figsize=(10,8))\n",
    "ax1.plot(res.observed) #observacao\n",
    "ax2.plot(res.trend) #tendencia\n",
    "ax3.plot(res.seasonal) #sazonalidade\n",
    "ax4.plot(confirmados.index, res.resid) #ruido\n",
    "ax4.axhline(0, linestyle = 'dashed', c='black')\n",
    "plt.show()"
   ]
  },
  {
   "cell_type": "markdown",
   "id": "6a9d7cc3",
   "metadata": {},
   "source": [
    "## Modelo ARIMA - média móvel integrada autoregressiva\n"
   ]
  },
  {
   "cell_type": "code",
   "execution_count": null,
   "id": "183e5a94",
   "metadata": {},
   "outputs": [],
   "source": [
    "#instalando o pacote\n",
    "# !pip install pmdarima "
   ]
  },
  {
   "cell_type": "code",
   "execution_count": null,
   "id": "0fa0c042",
   "metadata": {},
   "outputs": [],
   "source": [
    "from pmdarima.arima import auto_arima\n",
    "modelo = auto_arima(confirmados)"
   ]
  },
  {
   "cell_type": "code",
   "execution_count": null,
   "id": "2915b987",
   "metadata": {},
   "outputs": [],
   "source": [
    "fig = go.Figure(go.Scatter(\n",
    "    x=confirmados.index, y=confirmados, name='Observados'))\n",
    "\n",
    "fig.add_trace(go.Scatter(\n",
    "    x=confirmados.index, y=modelo.predict_in_sample(), name='Preditos'))\n",
    "\n",
    "\n",
    "fig.add_trace(go.Scatter(\n",
    "    x=pd.date_range('2020-05-20', '2020-06-20'), y=modelo.predict(31), name='Forecast'))\n",
    "\n",
    "\n",
    "fig.update_layout(title='Previsão de csos confirmados no Brasil para os próximos 30 dias')\n",
    "fig.show()"
   ]
  },
  {
   "cell_type": "markdown",
   "id": "84b8118d",
   "metadata": {},
   "source": [
    "## Modelo de Crescimento\n",
    "\n",
    "Vamos ustar a biblioteca fbprohet\n",
    "\n",
    "comando:  !conda install -c conda-forge fbprophet -y\n"
   ]
  },
  {
   "cell_type": "code",
   "execution_count": null,
   "id": "d3211ee8",
   "metadata": {},
   "outputs": [],
   "source": [
    "# !conda install -c conda-forge fbprophet -y\n",
    "# !pip install fbprophet"
   ]
  },
  {
   "cell_type": "code",
   "execution_count": null,
   "id": "04d1ee55",
   "metadata": {},
   "outputs": [],
   "source": [
    "from fbprophet import Prophet"
   ]
  },
  {
   "cell_type": "code",
   "execution_count": null,
   "id": "5c27e318",
   "metadata": {},
   "outputs": [],
   "source": [
    "#preprocessamento\n",
    "train = confirmados.reset_index()[:-5]\n",
    "test =  confirmados.reset_index()[-5:]\n",
    "\n",
    "#renomeando as colunas\n",
    "train.rename(columns={'observationdate':'ds', 'confirmed': 'y'}, inplace=True)\n",
    "test.rename(columns={'observationdate':'ds', 'confirmed': 'y'}, inplace=True)\n",
    "\n",
    "#definir o modelo de crescimento\n",
    "preditor = Prophet(growth = 'logistic', changepoints=['2020-03-11', '2020-03-30', '2020-04-25',\n",
    "                                                     '2020-05-03', '2020-05-10'])\n",
    "\n",
    "# populacao_total = 211463256\n",
    "populacao_total = 1000000\n",
    "train['cap'] = populacao_total\n",
    "\n",
    "#treinamento do modelo\n",
    "preditor.fit(train)\n",
    "\n",
    "#construindo previsoes  para o futuro\n",
    "future_dates = preditor.make_future_dataframe(periods=200)\n",
    "future_dates['cap']  = populacao_total\n",
    "forecast = preditor.predict(future_dates)\n"
   ]
  },
  {
   "cell_type": "code",
   "execution_count": null,
   "id": "0c5a9d44",
   "metadata": {},
   "outputs": [],
   "source": [
    "fig = go.Figure()\n",
    "fig.add_trace(go.Scatter(x=forecast.ds, y=forecast.yhat, name='Predição'))\n",
    "# fig.add_trace(go.Scatter(x=test.index, y=test, name='Observados - Teste'))\n",
    "fig.add_trace(go.Scatter(x=train.ds, y=train.y, name='Observados - Treino'))\n",
    "\n",
    "fig.update_layout(title='Predições de casos confirmados no Brasil')\n",
    "fig.show()"
   ]
  }
 ],
 "metadata": {
  "kernelspec": {
   "display_name": "Python 3",
   "language": "python",
   "name": "python3"
  },
  "language_info": {
   "codemirror_mode": {
    "name": "ipython",
    "version": 3
   },
   "file_extension": ".py",
   "mimetype": "text/x-python",
   "name": "python",
   "nbconvert_exporter": "python",
   "pygments_lexer": "ipython3",
   "version": "3.6.13"
  }
 },
 "nbformat": 4,
 "nbformat_minor": 5
}
